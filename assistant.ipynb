{
 "cells": [
  {
   "cell_type": "code",
   "execution_count": 1,
   "metadata": {},
   "outputs": [],
   "source": [
    "import os\n",
    "from dotenv import load_dotenv\n",
    "\n",
    "from crewai import Agent, Task, Crew\n",
    "from crewai import LLM\n",
    "from crewai_tools import SerperDevTool, ScrapeWebsiteTool\n",
    "\n",
    "from IPython.display import Markdown, display"
   ]
  },
  {
   "cell_type": "code",
   "execution_count": 2,
   "metadata": {},
   "outputs": [],
   "source": [
    "load_dotenv()\n",
    "\n",
    "SERPER_API_KEY = os.getenv('SERPER_API_KEY')\n",
    "os.environ['SERPER_API_KEY'] = SERPER_API_KEY"
   ]
  },
  {
   "cell_type": "code",
   "execution_count": 3,
   "metadata": {},
   "outputs": [],
   "source": [
    "serper_tool = SerperDevTool(n_results=5)\n",
    "# website_tool = ScrapeWebsiteTool()"
   ]
  },
  {
   "cell_type": "code",
   "execution_count": 4,
   "metadata": {},
   "outputs": [],
   "source": [
    "def getLLM():\n",
    "    llm = LLM(\n",
    "        model=\"ollama/llama3.1:8b\",\n",
    "        base_url=\"http://localhost:11434\"\n",
    "    )\n",
    "    \n",
    "    return llm"
   ]
  },
  {
   "cell_type": "code",
   "execution_count": 5,
   "metadata": {},
   "outputs": [],
   "source": [
    "researcher = Agent(\n",
    "    role=\"Pesquisador de Conteúdo\",\n",
    "    goal=\"Faça uma analise completa do que for solicitado. \"\n",
    "         \"Você é um ótimo pesquisador na internet. \",\n",
    "    tools = [serper_tool],\n",
    "    verbose=True,\n",
    "    backstory=(\n",
    "        \"Seu objetivo é buscar por informações relevantes \"\n",
    "        \"relacionadas ao que for pedido pelo usuário. \"\n",
    "    ),\n",
    "    llm=getLLM()\n",
    ")"
   ]
  },
  {
   "cell_type": "code",
   "execution_count": 6,
   "metadata": {},
   "outputs": [],
   "source": [
    "pptx_planer = Agent(\n",
    "    role=\"Elaborador dos Slides\",\n",
    "    goal=\"Faça uma analise completa do que for solicitado. \"\n",
    "         \"Você é um ótimo pesquisador na internet. \",\n",
    "    verbose=True,\n",
    "\n",
    "    backstory=(\n",
    "        \"Seu objetivo é buscar por informações relevantes \"\n",
    "        \"relacionadas ao que for pedido pelo usuário. \"\n",
    "    ),\n",
    "    llm=getLLM()\n",
    ")"
   ]
  },
  {
   "cell_type": "code",
   "execution_count": 7,
   "metadata": {},
   "outputs": [],
   "source": [
    "search_strategy_task = Task(\n",
    "    description=(\n",
    "        \"Pesquise sobre o seguinte tópico: ({topico}). \"\n",
    "        \"Pesquise na internet sobre uma explicação do que é \"\n",
    "        \"este tópico, como definição, aspectos importantes e o \"\n",
    "        \"que vc achar que seja importante de ser levado em conta. \"\n",
    "        \"Relacione SEMPRE o tópico com o seguinte tema ({tema}).\"\n",
    "    ),\n",
    "    expected_output=(\n",
    "        \"Um texto elaborado sobre o tópico solicitado, de \"\n",
    "        \"forma clara e bem descritiva, que facilite a \"\n",
    "        \"compreensão de quem for ler pela primeira vez sobre \"\n",
    "        \"({topico}). Não esqueça de colocar a bibliografia\"\n",
    "    ),\n",
    "    output_file=\"./output/stackholders_resumo.md\",\n",
    "    agent=researcher,\n",
    "    llm=getLLM()\n",
    ")"
   ]
  },
  {
   "cell_type": "code",
   "execution_count": 8,
   "metadata": {},
   "outputs": [],
   "source": [
    "pptx_strategy_task = Task(\n",
    "    description=(\n",
    "        \"Ao receber o que foi pesquisado na tarefa anterior, \"\n",
    "        \"elabore um planejamento de como colocá-lo em slides, \"\n",
    "        \"ou seja, o conteúdo que cada slide deve conter. \"\n",
    "        \"Faça de uma maneira a interessar quem for ver os slides \"\n",
    "        \"que atraia a atenção do público, não deve conter muito \"\n",
    "        \"texto, mas ao mesmo tempo tem que ser algo informativo.\"\n",
    "    ),\n",
    "    expected_output=(\n",
    "        \"Planejamento de ({quantidade}) slides para uma apresentação atrativa \"\n",
    "        \"e conteúdo de cada slide, de cada bullet point, e um breve resumo de \"\n",
    "        \"como explicar/abordar o público sobre o que está sendo falado em cada slide.\"\n",
    "    ),\n",
    "    output_file=\"./output/stackholders_slides.md\",\n",
    "    context=[search_strategy_task],\n",
    "    agent=pptx_planer,\n",
    "    llm=getLLM()\n",
    ")"
   ]
  },
  {
   "cell_type": "code",
   "execution_count": 9,
   "metadata": {},
   "outputs": [],
   "source": [
    "presentation_crew = Crew(\n",
    "    agents=[researcher,\n",
    "            pptx_planer],\n",
    "\n",
    "    tasks=[search_strategy_task,\n",
    "           pptx_strategy_task],\n",
    "\n",
    "    verbose=True,\n",
    "    language=\"Portuguese\"\n",
    ")"
   ]
  },
  {
   "cell_type": "code",
   "execution_count": 10,
   "metadata": {},
   "outputs": [],
   "source": [
    "presentation_input = {\n",
    "    'topico': 'StakeHolders',\n",
    "    'tema': 'Engenharia da Computacao e Project Management Body of Knowledge (PMBOK)',\n",
    "    'quantidade': '2'\n",
    "}"
   ]
  },
  {
   "cell_type": "code",
   "execution_count": null,
   "metadata": {},
   "outputs": [],
   "source": [
    "result = presentation_crew.kickoff(inputs=presentation_input)"
   ]
  },
  {
   "cell_type": "code",
   "execution_count": null,
   "metadata": {},
   "outputs": [],
   "source": [
    "display(Markdown('./output/stackholders_resumo.md'))"
   ]
  },
  {
   "cell_type": "code",
   "execution_count": null,
   "metadata": {},
   "outputs": [],
   "source": [
    "display(Markdown('./output/stackholders_slides.md'))"
   ]
  }
 ],
 "metadata": {
  "kernelspec": {
   "display_name": "ollamacrew-U6y1eEBk-py3.12",
   "language": "python",
   "name": "python3"
  },
  "language_info": {
   "codemirror_mode": {
    "name": "ipython",
    "version": 3
   },
   "file_extension": ".py",
   "mimetype": "text/x-python",
   "name": "python",
   "nbconvert_exporter": "python",
   "pygments_lexer": "ipython3",
   "version": "3.12.7"
  }
 },
 "nbformat": 4,
 "nbformat_minor": 2
}
